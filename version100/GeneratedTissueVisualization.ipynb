{
 "cells": [
  {
   "cell_type": "code",
   "execution_count": 1,
   "metadata": {},
   "outputs": [],
   "source": [
    "import numpy as np\n",
    "import matplotlib.pyplot as plt\n",
    "from scipy.spatial import Voronoi, voronoi_plot_2d\n",
    "from vertexmodelpack import connections as fc\n",
    "from vertexmodelpack import sppvertex as sppv\n",
    "import importlib\n",
    "from vertexmodelpack import readTissueFiles as rTF"
   ]
  },
  {
   "cell_type": "code",
   "execution_count": null,
   "metadata": {},
   "outputs": [],
   "source": [
    "importlib.reload(sppv)"
   ]
  },
  {
   "cell_type": "markdown",
   "metadata": {},
   "source": [
    "## Prior to tissue generation"
   ]
  },
  {
   "cell_type": "code",
   "execution_count": 1,
   "metadata": {},
   "outputs": [],
   "source": [
    "def hex_big(Nw):\n",
    "    n = 1\n",
    "    Hexn = 1\n",
    "    while Hexn <= Nw:\n",
    "        Hexn = Hexn + 6*n\n",
    "        n = n + 1\n",
    "    # print(Hexn,n)\n",
    "    return Hexn, n"
   ]
  },
  {
   "cell_type": "code",
   "execution_count": null,
   "metadata": {},
   "outputs": [],
   "source": [
    "Nw = 10\n",
    "epsilon = 0.003\n",
    "\n",
    "N1 = int(np.ceil(np.sqrt(np.ceil(4/3*(1/epsilon+Nw))))**2)\n",
    "\n",
    "Hx, n = hex_big(Nw)\n",
    "N2 = int(np.ceil(np.sqrt(np.ceil(4/3*(Hx+30*(n+2)))))**2)\n",
    "\n",
    "N = max(N1,N2)"
   ]
  },
  {
   "cell_type": "code",
   "execution_count": null,
   "metadata": {},
   "outputs": [],
   "source": [
    "print(N, Hx)"
   ]
  },
  {
   "cell_type": "markdown",
   "metadata": {},
   "source": [
    "# Loading tissue"
   ]
  },
  {
   "cell_type": "code",
   "execution_count": 2,
   "metadata": {},
   "outputs": [],
   "source": [
    "size_of_wound = 0 #or the number of removed cells"
   ]
  },
  {
   "cell_type": "code",
   "execution_count": null,
   "metadata": {},
   "outputs": [],
   "source": [
    "dataset = rTF.open_tissuefile('tissues/tissue405/size'+str(size_of_wound),0)\n",
    "\n",
    "coords = dataset['centers']\n",
    "vorPointRegion1 = dataset['point regions']\n",
    "vorRegions = dataset['regions']\n",
    "                \n",
    "N = len(coords[:,0])\n",
    "print(N)\n",
    "\n",
    "vertices = dataset['vertices']\n",
    "\n",
    "vorRidges = dataset['Edge connections']\n",
    "\n",
    "wloc = dataset['WoundLoc']\n",
    "\n",
    "vorPointRegion= []\n",
    "for i in range(N):\n",
    "    vorPointRegion.append(i)\n",
    "\n",
    "Boundaries = dataset['boundaries']\n",
    "\n",
    "vor = Voronoi(coords)\n",
    "vor.point_region = vorPointRegion\n",
    "vor.regions = vorRegions\n",
    "vor.ridge_vertices = vorRidges\n",
    "vor.vertices = vertices"
   ]
  },
  {
   "cell_type": "markdown",
   "metadata": {},
   "source": [
    "# Visualization"
   ]
  },
  {
   "cell_type": "markdown",
   "metadata": {},
   "source": [
    "## Visualize centers"
   ]
  },
  {
   "cell_type": "code",
   "execution_count": null,
   "metadata": {},
   "outputs": [],
   "source": [
    "fig = plt.figure(figsize=(8,8))\n",
    "ax = fig.add_subplot(111)\n",
    "voronoi_plot_2d(vor,show_vertices=False,ax=ax,show_points=False)\n",
    "plt.scatter(coords[:,0], coords[:,1],marker='s',linewidths=5)\n",
    "for i, txt in enumerate(vorPointRegion):\n",
    "    plt.annotate(int(txt),(coords[i,0], coords[i,1]),fontsize=13)\n",
    "    \n",
    "plt.plot(coords[wloc,0],coords[wloc,1],'ro',ms=10)\n",
    "plt.xlim(-3,3)\n",
    "plt.ylim(-3,3)"
   ]
  },
  {
   "cell_type": "markdown",
   "metadata": {},
   "source": [
    "## Visualize vertices"
   ]
  },
  {
   "cell_type": "code",
   "execution_count": null,
   "metadata": {},
   "outputs": [],
   "source": [
    "fig = plt.figure(figsize=(8,8))\n",
    "ax = fig.add_subplot(111)\n",
    "voronoi_plot_2d(vor,show_vertices=False,ax=ax,show_points=False)\n",
    "plt.scatter(vertices[:,0], vertices[:,1],marker='s',linewidths=3)\n",
    "for i, txt in enumerate(np.arange(0,len(vertices))):\n",
    "    plt.annotate(int(txt),(vertices[i,0], vertices[i,1]),fontsize=20)\n",
    "    \n",
    "plt.plot(coords[wloc,0],coords[wloc,1],'ro',ms=10)\n",
    "plt.ylim(-2.75,2.75)\n",
    "plt.grid()"
   ]
  },
  {
   "cell_type": "markdown",
   "metadata": {},
   "source": [
    "### Find 2-degree vertices"
   ]
  },
  {
   "cell_type": "code",
   "execution_count": 164,
   "metadata": {},
   "outputs": [],
   "source": [
    "wound_vertices = vorRegions[wloc]\n",
    "loosey = []\n",
    "for v in wound_vertices:\n",
    "    if len(fc.find_vertex_neighbour_vertices(vorRidges,v))<3:\n",
    "        loosey.append(v)\n",
    "cell_loosey = []\n",
    "for v in loosey:\n",
    "    print(fc.find_vertex_neighbour_vertices(vorRidges,v))\n",
    "    nv = fc.find_vertex_neighbour_centers(vorRegions,vorPointRegion,v)[0]\n",
    "    for c in nv:\n",
    "        if c != wloc:\n",
    "            if c not in cell_loosey:\n",
    "                cell_loosey.append(c)"
   ]
  },
  {
   "cell_type": "code",
   "execution_count": 165,
   "metadata": {},
   "outputs": [],
   "source": [
    "loc_loosey_edges = []\n",
    "loc_loosey_edges_ind = []\n",
    "for ind_e in range(len(vorRidges)):\n",
    "    edge = vorRidges[ind_e]\n",
    "    timesx = 0\n",
    "    for elem in edge:\n",
    "        if elem in loosey:\n",
    "            timesx+=1\n",
    "    if timesx!=0:\n",
    "        loc_loosey_edges.append(ind_e)\n",
    "        loc_loosey_edges_ind.append(timesx)\n",
    "    "
   ]
  },
  {
   "cell_type": "code",
   "execution_count": 166,
   "metadata": {},
   "outputs": [],
   "source": [
    "sorted_edges = np.argsort(loc_loosey_edges)"
   ]
  },
  {
   "cell_type": "code",
   "execution_count": null,
   "metadata": {},
   "outputs": [],
   "source": [
    "print(np.sort(cell_loosey))\n",
    "print(np.sort(loosey))\n",
    "print(np.array(loc_loosey_edges)[sorted_edges])\n",
    "print(np.array(loc_loosey_edges_ind)[sorted_edges])"
   ]
  },
  {
   "cell_type": "code",
   "execution_count": null,
   "metadata": {},
   "outputs": [],
   "source": []
  },
  {
   "cell_type": "code",
   "execution_count": 173,
   "metadata": {},
   "outputs": [],
   "source": [
    "nsides_cells = []\n",
    "for a in vorPointRegion:\n",
    "    nsides_cells.append(sppv.nsides_vor(vorPointRegion,vorRegions,a))"
   ]
  },
  {
   "cell_type": "code",
   "execution_count": null,
   "metadata": {},
   "outputs": [],
   "source": [
    "fig = plt.figure(figsize=(16,4))\n",
    "ax1 = fig.add_subplot(131)\n",
    "voronoi_plot_2d(vor,show_vertices=False,ax=ax1,show_points=False)\n",
    "plt.scatter(coords[vorPointRegion,0],coords[vorPointRegion,1], c=nsides_cells,s=150,cmap='rainbow')\n",
    "plt.clim(3,8)\n",
    "plt.colorbar()"
   ]
  },
  {
   "cell_type": "code",
   "execution_count": null,
   "metadata": {},
   "outputs": [],
   "source": [
    "plt.plot(nsides_cells,'.')"
   ]
  },
  {
   "cell_type": "markdown",
   "metadata": {},
   "source": [
    "## Visualize Boundaries"
   ]
  },
  {
   "cell_type": "code",
   "execution_count": 178,
   "metadata": {},
   "outputs": [],
   "source": [
    "lbound_up = np.where(vertices[Boundaries[0],1]>3)\n",
    "bound_up = np.array(Boundaries[0])[lbound_up]"
   ]
  },
  {
   "cell_type": "code",
   "execution_count": null,
   "metadata": {},
   "outputs": [],
   "source": [
    "\n",
    "fig = plt.figure(figsize=(16,16))\n",
    "ax = fig.add_subplot(111)\n",
    "voronoi_plot_2d(vor,show_vertices=True,ax=ax)\n",
    "ax.plot(vertices[Boundaries[1],0],vertices[Boundaries[1],1],'ro')\n",
    "ax.plot(vertices[np.array(Boundaries[0]),0],vertices[np.array(Boundaries[0]),1],'go')\n",
    "ax.plot(vertices[bound_up,0],vertices[bound_up,1],'ko')\n",
    "for i, txt in enumerate(np.arange(0,len(vertices))):\n",
    "    plt.annotate(int(txt),(vertices[i,0], vertices[i,1]),fontsize=12)\n",
    "ax.plot(np.arange(-5,5.5), np.arange(-5,5.5)*0 + 3)\n",
    "ax.plot(np.arange(-5,5.5), np.arange(-5,5.5)*0 - 3)\n",
    "ax.plot(np.arange(-5,5)*0-4, np.arange(-5,5))\n",
    "ax.plot(np.arange(-5,5)*0+4, np.arange(-5,5))  \n",
    "ax.grid()\n",
    "plt.show()"
   ]
  },
  {
   "cell_type": "markdown",
   "metadata": {},
   "source": [
    "# Test rearrangement of wound area"
   ]
  },
  {
   "cell_type": "code",
   "execution_count": null,
   "metadata": {},
   "outputs": [],
   "source": [
    "areaWound0 = sppv.area_vor(vorPointRegion,vorRegions,vertices,vorRidges,wloc,True)"
   ]
  },
  {
   "cell_type": "code",
   "execution_count": 183,
   "metadata": {},
   "outputs": [],
   "source": [
    "areaBound0 = sppv.area_vor([0],Boundaries,vertices,vorRidges,0,True)"
   ]
  },
  {
   "cell_type": "code",
   "execution_count": 193,
   "metadata": {},
   "outputs": [],
   "source": [
    "ordered_boundary =[1, 2, 3, 4, 0, 1]"
   ]
  },
  {
   "cell_type": "code",
   "execution_count": null,
   "metadata": {},
   "outputs": [],
   "source": [
    "for v in range(len(ordered_boundary)):\n",
    "    print(v,ordered_boundary[v],vertices[list(np.array(Boundaries[1])[ordered_boundary]),0][v])"
   ]
  },
  {
   "cell_type": "code",
   "execution_count": 72,
   "metadata": {},
   "outputs": [],
   "source": [
    "ord_bd = [28, 45, 9, 46, 24, 48, 10, 47, 41, 7, 42, 49, 11, 50, 63, 20, 56, 14, 55, 51, 12, 52, 54, 13, 53, 19, 33, 2, 32, 73, 30, 1, 31, 25, 69, 74, 62, 18, 61, 38, 5, 39, 40, 6, 36, 4, 37, 15, 57, 65, 21, 64, 43, 8, 44, 60, 17, 59, 58, 16, 35, 3, 34, 22, 66, 67, 23, 68, 26, 70, 75, 72, 27, 71, 29, 0]"
   ]
  },
  {
   "cell_type": "code",
   "execution_count": null,
   "metadata": {},
   "outputs": [],
   "source": [
    "plt.figure(figsize=(6,6))\n",
    "plt.plot(vertices[list(np.array(Boundaries[1])[ordered_boundary]),0],vertices[list(np.array(Boundaries[1])[ordered_boundary]),1],'ro-')\n",
    "plt.grid()"
   ]
  },
  {
   "cell_type": "code",
   "execution_count": null,
   "metadata": {},
   "outputs": [],
   "source": [
    "fig = voronoi_plot_2d(vor,show_vertices=False, show_points = False)\n",
    "fig.figimage\n",
    "wound_poly =  [vor.vertices[i] for i in list(np.array(Boundaries[1])[ordered_boundary]) if fc.norm(vor.vertices[i]) < np.sqrt(4)*5]       \n",
    "for region in vorRegions:\n",
    "    if not -1 in region:\n",
    "        polygon = [vertices[j] for j in region if fc.norm(vor.vertices[j]-vor.vertices[wloc]) < np.sqrt(350)]\n",
    "        if len(polygon) <= 3:\n",
    "            plt.fill(*zip(*polygon),'darkviolet',alpha=0.5)\n",
    "        if len(polygon) == 4:\n",
    "            plt.fill(*zip(*polygon),'midnightblue',alpha=0.5)\n",
    "        if len(polygon) == 5:\n",
    "            plt.fill(*zip(*polygon),'deepskyblue',alpha=0.5)\n",
    "        if len(polygon) == 6:\n",
    "            plt.fill(*zip(*polygon),'forestgreen',alpha=0.5)\n",
    "        if (len(polygon) >= 7) and (len(polygon) < 11):\n",
    "        \tplt.fill(*zip(*polygon),'darkorange',alpha=0.5)\n",
    "        \n",
    "plt.plot(vertices[list(np.array(Boundaries[1])[ordered_boundary]),0],vertices[list(np.array(Boundaries[1])[ordered_boundary]),1],'r-',lw = 2)\n",
    "ax = plt.gca()\n",
    "ax.set_xticks([])\n",
    "ax.set_yticks([])       \n",
    "plt.show()\n",
    "\n"
   ]
  }
 ],
 "metadata": {
  "kernelspec": {
   "display_name": "Python 3",
   "language": "python",
   "name": "python3"
  },
  "language_info": {
   "codemirror_mode": {
    "name": "ipython",
    "version": 3
   },
   "file_extension": ".py",
   "mimetype": "text/x-python",
   "name": "python",
   "nbconvert_exporter": "python",
   "pygments_lexer": "ipython3",
   "version": "3.12.3"
  },
  "orig_nbformat": 4
 },
 "nbformat": 4,
 "nbformat_minor": 2
}
